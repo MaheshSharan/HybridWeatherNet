{
 "cells": [
  {
   "cell_type": "markdown",
   "metadata": {},
   "source": [
    "# Weather Forecast Bias Correction using Deep Learning\n",
    "\n",
    "This notebook implements a hybrid deep learning approach for weather forecast bias correction, combining:\n",
    "1. LSTM for temporal pattern learning\n",
    "2. Graph Neural Network for spatial relationships\n",
    "3. Attention mechanism for feature fusion\n",
    "4. Monte Carlo dropout for uncertainty estimation\n",
    "\n",
    "## Setup and Installation"
   ]
  },
  {
   "cell_type": "code",
   "execution_count": null,
   "metadata": {},
   "outputs": [],
   "source": [
    "# Mount Google Drive\n",
    "from google.colab import drive\n",
    "drive.mount('/content/drive')"
   ]
  },
  {
   "cell_type": "code",
   "execution_count": null,
   "metadata": {},
   "outputs": [],
   "source": [
    "# Clone the repo if not already done\n",
    "!rm -rf weather-bias-correction-dl\n",
    "!git clone [https://github.com/MaheshSharan/weather-bias-correction-dl.git](https://github.com/MaheshSharan/weather-bias-correction-dl.git)\n",
    "\n",
    "# Change to project directory\n",
    "%cd weather-bias-correction-dl\n",
    "\n",
    "# Uninstall any existing installation\n",
    "!pip uninstall -y weather_bias_correction\n",
    "\n",
    "# Install dependencies and package in editable mode\n",
    "!pip install -r requirements.txt\n",
    "!pip install -e .\n",
    "\n",
    "# Setup project paths\n",
    "import os\n",
    "import sys\n",
    "\n",
    "# Add the project directory to Python path\n",
    "PROJECT_DIR = os.getcwd()\n",
    "if PROJECT_DIR not in sys.path:\n",
    "    sys.path.append(PROJECT_DIR)\n",
    "\n",
    "# Create necessary directories\n",
    "DATA_DIR = os.path.join(PROJECT_DIR, 'data')\n",
    "MODELS_DIR = os.path.join(PROJECT_DIR, 'models')\n",
    "LOGS_DIR = os.path.join(PROJECT_DIR, 'logs')\n",
    "\n",
    "for dir_path in [DATA_DIR, MODELS_DIR, LOGS_DIR]:\n",
    "    os.makedirs(dir_path, exist_ok=True)\n",
    "\n"
   ]
  },
  {
   "cell_type": "markdown",
   "metadata": {},
   "source": [
    "## Data Download and Preprocessing"
   ]
  },
  {
   "cell_type": "code",
   "execution_count": null,
   "metadata": {},
   "outputs": [],
   "source": [
    "from src.data.simple_openmeteo import SimpleOpenMeteoDownloader\n",
    "from src.data.isd_lite_downloader import ISDLiteDownloader  # Changed from GSOD\n",
    "from src.data.data_alignment import DataAligner\n",
    "import os\n",
    "\n",
    "# Define data directory\n",
    "DATA_DIR = 'data'  # Adjust this path as needed for Colab\n",
    "\n",
    "# Initialize downloaders with your date range\n",
    "openmeteo_downloader = SimpleOpenMeteoDownloader(\n",
    "    output_dir=os.path.join(DATA_DIR, 'raw', 'openmeteo'),\n",
    "    start_date='2018-01-01',\n",
    "    end_date='2023-12-31'\n",
    ")\n",
    "\n",
    "isd_downloader = ISDLiteDownloader(  # Changed from GSODDownloader\n",
    "    output_dir=os.path.join(DATA_DIR, 'raw', 'isd'),  # Changed from 'gsod'\n",
    "    start_date='2018-01-01',\n",
    "    end_date='2023-12-31'\n",
    ")\n",
    "\n",
    "# Define your locations\n",
    "locations = [\n",
    "    {\"name\": \"London\", \"lat\": 51.5074, \"lon\": -0.1278, \"isd_station\": \"037720-99999\"},  # Heathrow\n",
    "    {\"name\": \"Paris\", \"lat\": 48.8566, \"lon\": 2.3522, \"isd_station\": \"071490-99999\"},    # Charles de Gaulle\n",
    "    # Add more locations as needed\n",
    "]\n",
    "\n",
    "# Download data\n",
    "print(\"Downloading Open-Meteo data...\")\n",
    "for location in locations:\n",
    "    print(f\"\\nDownloading data for {location['name']}...\")\n",
    "    openmeteo_file = openmeteo_downloader.download_data(\n",
    "        latitude=location['lat'],\n",
    "        longitude=location['lon'],\n",
    "        location_name=location['name']\n",
    "    )\n",
    "\n",
    "print(\"\\nDownloading ISD-Lite data...\")\n",
    "for location in locations:\n",
    "    print(f\"\\nDownloading ISD data for {location['name']}...\")\n",
    "    isd_file = isd_downloader.download_data(\n",
    "        station_id=location['isd_station']\n",
    "    )\n",
    "\n",
    "# Align data\n",
    "print(\"\\nAligning datasets...\")\n",
    "aligner = DataAligner(\n",
    "    openmeteo_dir=os.path.join(DATA_DIR, 'raw', 'openmeteo'),\n",
    "    isd_dir=os.path.join(DATA_DIR, 'raw', 'isd'),  # Changed from gsod_dir\n",
    "    output_dir=os.path.join(DATA_DIR, 'processed')\n",
    ")\n",
    "\n",
    "# Align data for each location\n",
    "for location in locations:\n",
    "    print(f\"\\nAligning data for {location['name']}...\")\n",
    "    output_file = f\"{location['name']}_2018-01-01_2023-12-31_aligned.csv\"\n",
    "    aligner.align_data(\n",
    "        openmeteo_file=os.path.join(DATA_DIR, 'raw', 'openmeteo', f\"{location['name']}_2018-01-01_2023-12-31.csv\"),\n",
    "        isd_file=os.path.join(DATA_DIR, 'raw', 'isd', f\"{location['isd_station']}.csv\"),  # Changed from gsod_file\n",
    "        output_file=output_file\n",
    "    )"
   ]
  },
  {
   "cell_type": "markdown",
   "metadata": {},
   "source": [
    "## Model Training"
   ]
  },
  {
   "cell_type": "code",
   "execution_count": null,
   "metadata": {},
   "outputs": [],
   "source": [
    "import pytorch_lightning as pl\n",
    "from pytorch_lightning.callbacks import ModelCheckpoint, EarlyStopping\n",
    "from pytorch_lightning.loggers import TensorBoardLogger\n",
    "from src.models.bias_correction_model import DeepBiasCorrectionModel\n",
    "from src.training.train import train_model\n",
    "\n",
    "# Set up model parameters\n",
    "model_params = {\n",
    "    'input_dim': 5,  # Number of input features\n",
    "    'hidden_dim': 256,\n",
    "    'num_layers': 3,\n",
    "    'dropout_rate': 0.2,\n",
    "    'learning_rate': 1e-3,\n",
    "    'weight_decay': 1e-5\n",
    "}\n",
    "\n",
    "# Initialize model\n",
    "model = DeepBiasCorrectionModel(**model_params)\n",
    "\n",
    "# Set up callbacks\n",
    "checkpoint_callback = ModelCheckpoint(\n",
    "    dirpath=MODELS_DIR,\n",
    "    filename='bias_correction-{epoch:02d}-{val_loss:.2f}',\n",
    "    monitor='val_loss',\n",
    "    mode='min',\n",
    "    save_top_k=3\n",
    ")\n",
    "\n",
    "early_stopping = EarlyStopping(\n",
    "    monitor='val_loss',\n",
    "    patience=10,\n",
    "    mode='min'\n",
    ")\n",
    "\n",
    "# Set up logger\n",
    "logger = TensorBoardLogger(LOGS_DIR, name='bias_correction')\n",
    "\n",
    "# Train model\n",
    "trainer = pl.Trainer(\n",
    "    max_epochs=100,\n",
    "    accelerator='gpu',\n",
    "    devices=1,\n",
    "    callbacks=[checkpoint_callback, early_stopping],\n",
    "    logger=logger,\n",
    "    gradient_clip_val=0.5\n",
    ")\n",
    "\n",
    "trainer.fit(model)"
   ]
  },
  {
   "cell_type": "markdown",
   "metadata": {},
   "source": [
    "## Model Evaluation and Visualization"
   ]
  },
  {
   "cell_type": "code",
   "execution_count": null,
   "metadata": {},
   "outputs": [],
   "source": [
    "import matplotlib.pyplot as plt\n",
    "import seaborn as sns\n",
    "from src.app.visualization import plot_predictions, plot_uncertainty\n",
    "\n",
    "# Load best model\n",
    "best_model = DeepBiasCorrectionModel.load_from_checkpoint(\n",
    "    checkpoint_callback.best_model_path\n",
    ")\n",
    "\n",
    "# Make predictions with uncertainty\n",
    "predictions, uncertainties = best_model.predict_with_uncertainty(test_data)\n",
    "\n",
    "# Plot results\n",
    "plot_predictions(test_data, predictions)\n",
    "plot_uncertainty(test_data, predictions, uncertainties)"
   ]
  },
  {
   "cell_type": "markdown",
   "metadata": {},
   "source": [
    "## Save Results to Drive"
   ]
  },
  {
   "cell_type": "code",
   "execution_count": null,
   "metadata": {},
   "outputs": [],
   "source": [
    "# Save model and results\n",
    "import torch\n",
    "import pandas as pd\n",
    "\n",
    "# Save model state\n",
    "torch.save(best_model.state_dict(), os.path.join(MODELS_DIR, 'final_model.pth'))\n",
    "\n",
    "# Save predictions\n",
    "results_df = pd.DataFrame({\n",
    "    'actual': test_data.y,\n",
    "    'predicted': predictions,\n",
    "    'uncertainty': uncertainties\n",
    "})\n",
    "results_df.to_csv(os.path.join(PROJECT_DIR, 'predictions.csv'))\n",
    "\n",
    "print(\"Model and results saved to Google Drive!\")"
   ]
  }
 ],
 "metadata": {
  "accelerator": "GPU",
  "colab": {
   "name": "Weather_Bias_Correction.ipynb",
   "provenance": []
  },
  "kernelspec": {
   "display_name": "Python 3",
   "language": "python",
   "name": "python3"
  },
  "language_info": {
   "codemirror_mode": {
    "name": "ipython",
    "version": 3
   },
   "file_extension": ".py",
   "mimetype": "text/x-python",
   "name": "python",
   "nbconvert_exporter": "python",
   "pygments_lexer": "ipython3",
   "version": "3.11.6"
  }
 },
 "nbformat": 4,
 "nbformat_minor": 4
}
